{
 "cells": [
  {
   "cell_type": "code",
   "execution_count": 35,
   "metadata": {},
   "outputs": [],
   "source": [
    "import sqlite3\n",
    "from sqlite3 import Error\n",
    "import csv\n",
    "\n",
    "DB_FILE_PATH = 'testSQLite.db'\n",
    "CSV_FILE_PATH = 'C:/Users/HP/Downloads/indian-movie-face-database-imfdb/imfdb.csv'\n",
    "\n",
    "\n",
    "def connect_to_db(db_file):\n",
    "    \"\"\"\n",
    "    Connect to an SQlite database\n",
    "    \n",
    "    \"\"\"\n",
    "    sqlite3_conn = None\n",
    "\n",
    "    try:\n",
    "        sqlite3_conn = sqlite3.connect(db_file)\n",
    "        return sqlite3_conn\n",
    "\n",
    "    except Error as err:\n",
    "        print(err)\n",
    "\n",
    "        if sqlite3_conn is not None:\n",
    "            sqlite3_conn.close()\n"
   ]
  },
  {
   "cell_type": "code",
   "execution_count": 36,
   "metadata": {},
   "outputs": [],
   "source": [
    "def insert_values_to_table(table_name, csv_file_path):\n",
    "    \"\"\"\n",
    "    \n",
    "    Open a csv file, store its content in a list excluding header and insert the data from the list to db table\n",
    "    \n",
    "    \n",
    "    \"\"\"\n",
    "\n",
    "    conn = connect_to_db(DB_FILE_PATH)\n",
    "\n",
    "    if conn is not None:\n",
    "        c = conn.cursor()\n",
    "\n",
    "        # Create table if it is not exist\n",
    "        c.execute('CREATE TABLE IF NOT EXISTS ' + table_name +\n",
    "                  '(image         CHAR,'\n",
    "                  'trait         VARCHAR)')\n",
    "\n",
    "\n",
    "        # Read CSV file content\n",
    "        values_to_insert = open_csv_file(csv_file_path)\n",
    "\n",
    "        # Insert to table\n",
    "        if len(values_to_insert) > 0:\n",
    "            column_names, column_numbers = get_column_names_from_db_table(c, table_name)\n",
    "\n",
    "            values_str = '?,' * column_numbers\n",
    "            values_str = values_str[:-1]\n",
    "\n",
    "            sql_query = 'INSERT INTO ' + table_name + '(' + column_names + ') VALUES (' + values_str + ')'\n",
    "\n",
    "            c.executemany(sql_query, values_to_insert)\n",
    "            conn.commit()\n",
    "\n",
    "            print('SQL insert process finished')\n",
    "        else:\n",
    "            print('Nothing to insert')\n",
    "\n",
    "        conn.close()\n",
    "\n",
    "    else:\n",
    "        print('Connection to database failed')\n"
   ]
  },
  {
   "cell_type": "code",
   "execution_count": 37,
   "metadata": {},
   "outputs": [],
   "source": [
    "def open_csv_file(csv_file_path):\n",
    "    \"\"\"\n",
    "    Open and read data from a csv file without headers (skipping the first row)\n",
    "    \n",
    "    \"\"\"\n",
    "    with open(csv_file_path, 'r', encoding='utf-8') as csv_file:\n",
    "        reader = csv.reader(csv_file)\n",
    "        next(reader)\n",
    "\n",
    "        data = list()\n",
    "        for row in reader:\n",
    "            data.append(row)\n",
    "\n",
    "        return data\n"
   ]
  },
  {
   "cell_type": "code",
   "execution_count": 38,
   "metadata": {},
   "outputs": [],
   "source": [
    "def get_column_names_from_db_table(sql_cursor, table_name):\n",
    "    \"\"\"\n",
    "    Scrape the column names from a database table to a list and convert to a comma separated string, count the number\n",
    "    of columns in a database table\n",
    "\n",
    "    \"\"\"\n",
    "\n",
    "    table_column_names = 'PRAGMA table_info(' + table_name + ');'\n",
    "    sql_cursor.execute(table_column_names)\n",
    "    table_column_names = sql_cursor.fetchall()\n",
    "\n",
    "    column_count = len(table_column_names)\n",
    "\n",
    "    column_names = list()\n",
    "\n",
    "    for name in table_column_names:\n",
    "        column_names.append(name[1])\n",
    "\n",
    "    return ', '.join(column_names), column_count\n"
   ]
  },
  {
   "cell_type": "code",
   "execution_count": 39,
   "metadata": {},
   "outputs": [
    {
     "name": "stdout",
     "output_type": "stream",
     "text": [
      "SQL insert process finished\n"
     ]
    }
   ],
   "source": [
    "if __name__ == '__main__':\n",
    "    insert_values_to_table('imfdb_temp', CSV_FILE_PATH)\n"
   ]
  },
  {
   "cell_type": "code",
   "execution_count": null,
   "metadata": {},
   "outputs": [],
   "source": []
  }
 ],
 "metadata": {
  "kernelspec": {
   "display_name": "Python 3",
   "language": "python",
   "name": "python3"
  },
  "language_info": {
   "codemirror_mode": {
    "name": "ipython",
    "version": 3
   },
   "file_extension": ".py",
   "mimetype": "text/x-python",
   "name": "python",
   "nbconvert_exporter": "python",
   "pygments_lexer": "ipython3",
   "version": "3.7.4"
  }
 },
 "nbformat": 4,
 "nbformat_minor": 4
}
